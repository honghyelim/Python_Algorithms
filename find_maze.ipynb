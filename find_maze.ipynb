{
 "cells": [
  {
   "cell_type": "markdown",
   "metadata": {},
   "source": [
    "### 응용 문제1 - 미로 찾기 알고리즘\n",
    "출발점에서 도착점까지 가기 위한 최단 경로를 찾는 알고리즘 생성"
   ]
  },
  {
   "cell_type": "code",
   "execution_count": 4,
   "metadata": {},
   "outputs": [],
   "source": [
    "def maze(g,start,end):\n",
    "    qu = []\n",
    "    done = set()\n",
    "    qu.append(start)\n",
    "    done.add(start)\n",
    "    \n",
    "    while qu:\n",
    "        p = qu.pop(0) #큐에서 처리 대상을 추출\n",
    "        v = p[-1] #큐에 저장된 마지막 문자가 현재처리해야할 꼭짓점\n",
    "        if v == end: #처리해야 할 꼭짓점이 도착점이면(목적지 도착)\n",
    "            return p #지금까지의 전체 이동 경로를 돌려주고 종료(종료 조건)\n",
    "        for x in g[v]: #현재 꼭짓점에 연결된 꼭짓점들 중에\n",
    "            if x not in done: #아직 큐에 추가되지 않은 꼭짓점을\n",
    "                qu.append(p+x) #누적된 경로를 알려줘야 되기 때문에 p+x\n",
    "                done.add(x) #집합에도 추가\n",
    "                       \n",
    "    return \"?\" #탐색을 마칠 때까지 도착점이 나오지 않으면 나갈 수 없는 미로임"
   ]
  },
  {
   "cell_type": "code",
   "execution_count": 5,
   "metadata": {},
   "outputs": [
    {
     "data": {
      "text/plain": [
       "'aeimnjfghlp'"
      ]
     },
     "execution_count": 5,
     "metadata": {},
     "output_type": "execute_result"
    }
   ],
   "source": [
    "#미로 정보\n",
    "#미로의 각 위치에 알파벳으로 이름을 저장\n",
    "g = {\n",
    "    'a':['e'],\n",
    "    'b':['c','f'],\n",
    "    'c':['b','d'],\n",
    "    'd':['c'],\n",
    "    'e':['a','i'],\n",
    "    'f':['b','g','j'],\n",
    "    'g':['f','h'],\n",
    "    'h':['g','l'],\n",
    "    'i':['e','m'],\n",
    "    'j':['f','k','n'],\n",
    "    'k':['j','o'],\n",
    "    'l':['h','p'],\n",
    "    'm':['i','n'],\n",
    "    'n':['m','j'],\n",
    "    'o':['k'],\n",
    "    'p':['l']\n",
    "}\n",
    "maze(g,'a','p')"
   ]
  },
  {
   "cell_type": "code",
   "execution_count": null,
   "metadata": {},
   "outputs": [],
   "source": []
  }
 ],
 "metadata": {
  "kernelspec": {
   "display_name": "Python 3",
   "language": "python",
   "name": "python3"
  },
  "language_info": {
   "codemirror_mode": {
    "name": "ipython",
    "version": 3
   },
   "file_extension": ".py",
   "mimetype": "text/x-python",
   "name": "python",
   "nbconvert_exporter": "python",
   "pygments_lexer": "ipython3",
   "version": "3.7.6"
  }
 },
 "nbformat": 4,
 "nbformat_minor": 4
}
