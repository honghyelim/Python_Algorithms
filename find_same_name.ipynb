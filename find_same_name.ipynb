{
 "cells": [
  {
   "cell_type": "markdown",
   "metadata": {},
   "source": [
    "### 딕셔너리를 통해 동명이인을 찾는 알고리즘\n",
    "n명의 사람 이름 중에 같은 이름을 찾아 집합으로 만들어 돌려주는 알고리즘 생성"
   ]
  },
  {
   "cell_type": "code",
   "execution_count": 1,
   "metadata": {},
   "outputs": [],
   "source": [
    "def find_same_name(a):\n",
    "    name_dict={} #각 이름이 등장한 횟수를 딕셔너리로 만듦\n",
    "    for name in a :\n",
    "        if name in name_dict : #이름이 딕셔너리에 있으면\n",
    "            name_dict[name] += 1 #등장횟수를 1증가\n",
    "        else:                    #새 이름이면\n",
    "            name_dict[name] = 1  #등장횟수를 1로 저장\n",
    "    result = set()               #결과값을 저장할 빈 집합\n",
    "    for name in name_dict :     \n",
    "        if name_dict[name] >= 2: #등장횟수가 2이상이면\n",
    "            result.add(name)     #result에 이름을 저장\n",
    "            \n",
    "    return result      "
   ]
  },
  {
   "cell_type": "code",
   "execution_count": 2,
   "metadata": {},
   "outputs": [
    {
     "name": "stdout",
     "output_type": "stream",
     "text": [
      "{'Tom'}\n",
      "{'Tom', 'Mike'}\n"
     ]
    }
   ],
   "source": [
    "name = [\"Tom\",\"Jerry\",\"Mike\",\"Tom\"] # 대소문자 유의: 파이썬은 대소문자를 구분함\n",
    "print(find_same_name(name))\n",
    "\n",
    "name2 = [\"Tom\",\"Jerry\",\"Mike\",\"Tom\",\"Mike\"]\n",
    "print(find_same_name(name2))"
   ]
  },
  {
   "cell_type": "markdown",
   "metadata": {},
   "source": [
    "### 연습문제\n",
    "다음과 같이 학생 번호와 이름이 주어졌을 때 학생 번호를 입력하면 그 학생 번호에 해당하는 이름을 돌려주고, 해당하는 학생 번호가 없으면 물음표를 돌려줘야 합니다.\n",
    "\n",
    "{39: Justin\n",
    "14: John\n",
    "67: Mike\n",
    "105: Summer}"
   ]
  },
  {
   "cell_type": "code",
   "execution_count": 3,
   "metadata": {},
   "outputs": [],
   "source": [
    "# 학생 번호에 해당하는 학생 이름 찾기(dict 이용)\n",
    "# 입력: 학생 명부 딕셔너리 dict_list, 찾는 학생 번호 number\n",
    "# 출력: 해당하는 학생 이름, 해당하는 학생 번호가 없으면 물음표 \"?\"\n",
    "\n",
    "def get_name(dict_list, number):\n",
    "    if number in dict_list: \n",
    "        return dict_list[number]\n",
    "    else:\n",
    "        return \"?\" # 해당하는 번호가 없으면 물음표"
   ]
  },
  {
   "cell_type": "code",
   "execution_count": 4,
   "metadata": {},
   "outputs": [
    {
     "name": "stdout",
     "output_type": "stream",
     "text": [
      "Summer\n",
      "?\n"
     ]
    }
   ],
   "source": [
    "sample_info = {\n",
    "    39: \"Justin\",\n",
    "    14: \"John\",\n",
    "    67: \"Mike\",\n",
    "    105: \"Summer\"\n",
    "}\n",
    "\n",
    "print(get_name(sample_info, 105))\n",
    "print(get_name(sample_info, 777))"
   ]
  }
 ],
 "metadata": {
  "kernelspec": {
   "display_name": "Python 3",
   "language": "python",
   "name": "python3"
  },
  "language_info": {
   "codemirror_mode": {
    "name": "ipython",
    "version": 3
   },
   "file_extension": ".py",
   "mimetype": "text/x-python",
   "name": "python",
   "nbconvert_exporter": "python",
   "pygments_lexer": "ipython3",
   "version": "3.7.6"
  }
 },
 "nbformat": 4,
 "nbformat_minor": 4
}
