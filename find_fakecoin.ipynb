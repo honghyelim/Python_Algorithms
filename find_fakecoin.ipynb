{
 "cells": [
  {
   "cell_type": "markdown",
   "metadata": {},
   "source": [
    "### 가짜 동전을 찾는 알고리즘(순차,이분 탐색)"
   ]
  },
  {
   "cell_type": "code",
   "execution_count": 2,
   "metadata": {},
   "outputs": [],
   "source": [
    "#순차탐색 : 하나씩 비교하기\n",
    "def weigh(a,b,c,d):\n",
    "    fake = 29\n",
    "    if a <= fake and fake <= b:\n",
    "        return -1\n",
    "    if c <= fake and fake <= d:\n",
    "        return 1\n",
    "    return 0\n",
    "\n",
    "def find_fakecoin(left,right):\n",
    "    for i in range(left+1,right+1):\n",
    "        result =  weigh(left, left, i, i)\n",
    "        if result == -1 :\n",
    "            return left\n",
    "        elif result == 1:\n",
    "            return i\n",
    "        \n",
    "    return -1"
   ]
  },
  {
   "cell_type": "code",
   "execution_count": 3,
   "metadata": {},
   "outputs": [
    {
     "data": {
      "text/plain": [
       "29"
      ]
     },
     "execution_count": 3,
     "metadata": {},
     "output_type": "execute_result"
    }
   ],
   "source": [
    "n= 100\n",
    "find_fakecoin(0,n-1)"
   ]
  },
  {
   "cell_type": "code",
   "execution_count": 5,
   "metadata": {},
   "outputs": [],
   "source": [
    "#이분탐색 : 반씩 그룹을 나누어 비교하기\n",
    "def find_fakecoin2(left,right):\n",
    "    if left == right:      #종료 조건: 가짜동전이 있을 범위안에 동전이 한개이면 그 동전이 가짜동전임\n",
    "        return left\n",
    "    #동전을 두 그룹으로 나눔\n",
    "    half = (right-left+1)//2\n",
    "    g1_left = left\n",
    "    g1_right = left+half-1\n",
    "    g2_left = left+half\n",
    "    g2_right = g2_left+half-1\n",
    "    #나눠진 두 그룹을 weigh()함수를 이용해 저울질\n",
    "    result = weigh(g1_left,g1_right,g2_left,g2_right)\n",
    "    if result == -1:\n",
    "        #재귀호출을 사용해 그룹1 범위를 다시 조사\n",
    "        return find_fakecoin(g1_left,g1_right)\n",
    "    elif result == 1:\n",
    "        return find_fakecoin(g2_left,g2_right)\n",
    "    else:\n",
    "        #두 그룹의 무게가 같으면 남은 한 개의 동전이 가짜동전임\n",
    "        return right"
   ]
  },
  {
   "cell_type": "code",
   "execution_count": 6,
   "metadata": {},
   "outputs": [
    {
     "data": {
      "text/plain": [
       "29"
      ]
     },
     "execution_count": 6,
     "metadata": {},
     "output_type": "execute_result"
    }
   ],
   "source": [
    "n= 100\n",
    "find_fakecoin2(0,n-1)"
   ]
  }
 ],
 "metadata": {
  "kernelspec": {
   "display_name": "Python 3",
   "language": "python",
   "name": "python3"
  },
  "language_info": {
   "codemirror_mode": {
    "name": "ipython",
    "version": 3
   },
   "file_extension": ".py",
   "mimetype": "text/x-python",
   "name": "python",
   "nbconvert_exporter": "python",
   "pygments_lexer": "ipython3",
   "version": "3.7.6"
  }
 },
 "nbformat": 4,
 "nbformat_minor": 4
}
