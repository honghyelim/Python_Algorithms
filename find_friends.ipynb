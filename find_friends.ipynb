{
 "cells": [
  {
   "cell_type": "markdown",
   "metadata": {},
   "source": [
    "### 친구의 친구 찾기(그래프)"
   ]
  },
  {
   "cell_type": "code",
   "execution_count": 2,
   "metadata": {},
   "outputs": [],
   "source": [
    "def find_friends(g,start):\n",
    "    qu = []\n",
    "    done = set()\n",
    "    qu.append(start)\n",
    "    done.add(start)\n",
    "    while qu:\n",
    "        p = qu.pop(0)\n",
    "        print(p)\n",
    "        for x in g[p]:\n",
    "            if x not in done:\n",
    "                qu.append(x)\n",
    "                done.add(x)"
   ]
  },
  {
   "cell_type": "code",
   "execution_count": 3,
   "metadata": {},
   "outputs": [
    {
     "name": "stdout",
     "output_type": "stream",
     "text": [
      "Summer\n",
      "John\n",
      "Justin\n",
      "Mike\n",
      "May\n",
      "Kim\n"
     ]
    }
   ],
   "source": [
    "fr_info = {\n",
    "    'Summer': ['John', 'Justin', 'Mike'],\n",
    "\n",
    "    'John': ['Summer', 'Justin'],\n",
    "\n",
    "    'Justin': ['John', 'Summer', 'Mike', 'May'],\n",
    "\n",
    "    'Mike': ['Summer', 'Justin'],\n",
    "\n",
    "    'May': ['Justin', 'Kim'],\n",
    "\n",
    "    'Kim': ['May'],\n",
    "\n",
    "    'Tom': ['Jerry'],\n",
    "\n",
    "    'Jerry': ['Tom']\n",
    "}\n",
    "find_friends(fr_info,'Summer')"
   ]
  },
  {
   "cell_type": "markdown",
   "metadata": {},
   "source": [
    "### 친밀도 계산"
   ]
  },
  {
   "cell_type": "code",
   "execution_count": 4,
   "metadata": {},
   "outputs": [],
   "source": [
    "def find_friends2(g,start):\n",
    "    qu = []\n",
    "    done = set()\n",
    "    qu.append((start,0))\n",
    "    done.add(start)\n",
    "    while qu:\n",
    "        (p,d) = qu.pop(0) #튜플로 이름과 친밀도를 묶어줌\n",
    "        print(p,d)\n",
    "        for x in g[p]:\n",
    "            if x not in done:\n",
    "                qu.append((x,d+1))\n",
    "                done.add(x)"
   ]
  },
  {
   "cell_type": "code",
   "execution_count": 5,
   "metadata": {},
   "outputs": [
    {
     "name": "stdout",
     "output_type": "stream",
     "text": [
      "Summer 0\n",
      "John 1\n",
      "Justin 1\n",
      "Mike 1\n",
      "May 2\n",
      "Kim 3\n"
     ]
    }
   ],
   "source": [
    "fr_info = {\n",
    "    'Summer': ['John', 'Justin', 'Mike'],\n",
    "\n",
    "    'John': ['Summer', 'Justin'],\n",
    "\n",
    "    'Justin': ['John', 'Summer', 'Mike', 'May'],\n",
    "\n",
    "    'Mike': ['Summer', 'Justin'],\n",
    "\n",
    "    'May': ['Justin', 'Kim'],\n",
    "\n",
    "    'Kim': ['May'],\n",
    "\n",
    "    'Tom': ['Jerry'],\n",
    "\n",
    "    'Jerry': ['Tom']\n",
    "}\n",
    "find_friends2(fr_info,'Summer')"
   ]
  }
 ],
 "metadata": {
  "kernelspec": {
   "display_name": "Python 3",
   "language": "python",
   "name": "python3"
  },
  "language_info": {
   "codemirror_mode": {
    "name": "ipython",
    "version": 3
   },
   "file_extension": ".py",
   "mimetype": "text/x-python",
   "name": "python",
   "nbconvert_exporter": "python",
   "pygments_lexer": "ipython3",
   "version": "3.7.6"
  }
 },
 "nbformat": 4,
 "nbformat_minor": 4
}
