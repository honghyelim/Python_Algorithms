{
 "cells": [
  {
   "cell_type": "markdown",
   "metadata": {},
   "source": [
    "### 회문찾기(큐와 스택)"
   ]
  },
  {
   "cell_type": "code",
   "execution_count": 2,
   "metadata": {},
   "outputs": [
    {
     "name": "stdout",
     "output_type": "stream",
     "text": [
      "True\n",
      "True\n",
      "False\n"
     ]
    }
   ],
   "source": [
    "def palindrome(s):\n",
    "    # 큐와 스택을 리스트로 정의\n",
    "    qu = []\n",
    "    st = []\n",
    "    # 1단계: 문자열의 알파벳 문자를 각각 큐와 스택에 넣음\n",
    "    for x in s:\n",
    "        # 해당 문자가 알파벳이면(공백, 숫자, 특수문자가 아니면)\n",
    "        # 큐와 스택에 각각 그 문자를 추가\n",
    "        if x.isalpha():\n",
    "            qu.append(x.lower())\n",
    "            st.append(x.lower())\n",
    "\n",
    "    # 2단계: 큐와 스택에 들어 있는 문자를 꺼내면서 비교\n",
    "    while qu: # 큐에 문자가 남아 있는 동안 반복\n",
    "        if qu.pop(0) != st.pop(): # 큐와 스택에서 꺼낸 문자가 다르면 회문이 아님\n",
    "            return False\n",
    "        \n",
    "    return True\n",
    "\n",
    "\n",
    "print(palindrome(\"Wow\"))\n",
    "print(palindrome(\"Madam, I’m Adam.\"))\n",
    "print(palindrome(\"Madam, I am Adam.\"))"
   ]
  },
  {
   "cell_type": "code",
   "execution_count": 4,
   "metadata": {},
   "outputs": [
    {
     "name": "stdout",
     "output_type": "stream",
     "text": [
      "True\n",
      "True\n",
      "False\n"
     ]
    }
   ],
   "source": [
    "def palindrome(s):\n",
    "    i = 0           # 문자열의 앞에서 비교할 위치\n",
    "    j = len(s) - 1  # 문자열의 뒤에서 비교할 위치\n",
    "\n",
    "    while i < j:    # 중간까지만 검사하면 됨\n",
    "        # i 위치에 있는 문자가 알파벳 문자가 아니면 뒤로 이동\n",
    "        if s[i].isalpha() == False:\n",
    "            i += 1\n",
    "        # j 위치에 있는 문자가 알파벳 문자가 아니면 앞으로 이동\n",
    "        elif s[j].isalpha() == False:\n",
    "            j -= 1\n",
    "        # i와 j 위치에 둘 다 알파벳 문자가 있으면 두 문자를 비교하고 다르면 회문이 아님\n",
    "        elif s[i].lower() != s[j].lower():\n",
    "            return False\n",
    "        # i와 j 위치에 두 문자를 비교하고 같으면 다음 비교 대상으로 넘어감\n",
    "        else:\n",
    "            i += 1\n",
    "            j -= 1 \n",
    "    return True\n",
    "\n",
    " \n",
    "print(palindrome(\"Wow\"))\n",
    "print(palindrome(\"Madam, I’m Adam.\"))\n",
    "print(palindrome(\"Madam, I am Adam.\"))"
   ]
  }
 ],
 "metadata": {
  "kernelspec": {
   "display_name": "Python 3",
   "language": "python",
   "name": "python3"
  },
  "language_info": {
   "codemirror_mode": {
    "name": "ipython",
    "version": 3
   },
   "file_extension": ".py",
   "mimetype": "text/x-python",
   "name": "python",
   "nbconvert_exporter": "python",
   "pygments_lexer": "ipython3",
   "version": "3.7.6"
  }
 },
 "nbformat": 4,
 "nbformat_minor": 4
}
