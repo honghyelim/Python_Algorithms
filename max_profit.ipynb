{
 "cells": [
  {
   "cell_type": "markdown",
   "metadata": {},
   "source": [
    "### 최대수익 구하는 알고리즘"
   ]
  },
  {
   "cell_type": "code",
   "execution_count": 1,
   "metadata": {},
   "outputs": [],
   "source": [
    "#가능한 모든 경우 비교하기\n",
    "def max_profit(prices):\n",
    "    n = len(prices)\n",
    "    max_profit = 0\n",
    "    \n",
    "    for i in range(0,n-1):\n",
    "        for j in range(i+1,n):\n",
    "            profit = prices[j]-prices[i]\n",
    "            if profit > max_profit:\n",
    "                max_profit=profit\n",
    "                \n",
    "    return max_profit"
   ]
  },
  {
   "cell_type": "code",
   "execution_count": 2,
   "metadata": {},
   "outputs": [
    {
     "data": {
      "text/plain": [
       "2400"
      ]
     },
     "execution_count": 2,
     "metadata": {},
     "output_type": "execute_result"
    }
   ],
   "source": [
    "stock = [10300, 9600, 9800, 8200, 7800, 8300, 9500, 9800, 10200, 9500]\n",
    "max_profit(stock)"
   ]
  },
  {
   "cell_type": "code",
   "execution_count": 3,
   "metadata": {},
   "outputs": [],
   "source": [
    "#한번 반복으로 최대 수익 찾기\n",
    "def max_profit2(prices):\n",
    "    n=len(prices)\n",
    "    max_profit = 0\n",
    "    min_prices = prices[0]\n",
    "    #지금까지의 최솟값에 주식을 사서 i날에 팔 떄의 수익\n",
    "    for i in range(1,n):\n",
    "        profit = prices[i]-min_prices\n",
    "        if profit > max_profit:\n",
    "            max_profit = profit \n",
    "        if prices[i] < min_prices:\n",
    "            min_prices = prices[i]\n",
    "            \n",
    "    return max_profit"
   ]
  },
  {
   "cell_type": "code",
   "execution_count": 4,
   "metadata": {},
   "outputs": [
    {
     "data": {
      "text/plain": [
       "2400"
      ]
     },
     "execution_count": 4,
     "metadata": {},
     "output_type": "execute_result"
    }
   ],
   "source": [
    "stock = [10300, 9600, 9800, 8200, 7800, 8300, 9500, 9800, 10200, 9500]\n",
    "max_profit2(stock)"
   ]
  },
  {
   "cell_type": "code",
   "execution_count": 6,
   "metadata": {},
   "outputs": [],
   "source": [
    "#최대수익을 구하는 두 알고리즘의 계산속도 비교하기\n",
    "import time     # 시간 측정을 위한 time 모듈\n",
    "import random   # 테스트 주가 생성을 위한 random 모듈\n",
    "\n",
    "def test(n):\n",
    "        # 테스트 자료 만들기(5000부터 20000까지의 난수를 주가로 사용)\n",
    "    a = []\n",
    "    for i in range(0, n):\n",
    "        a.append(random.randint(5000, 20000))\n",
    "    # 느린 O(n * n) 알고리즘 테스트\n",
    "    start = time.time()       # 계산 시작 직전 시각을 기억\n",
    "    mps = max_profit(a)  # 계산 수행\n",
    "    end = time.time()         # 계산 시작 직후 시각을 기억\n",
    "    time_slow = end - start   # 직후 시각에서 직전 시각을 빼면 계산에 걸린 시간\n",
    "    # 빠른 O(n) 알고리즘 테스트\n",
    "    start = time.time()       # 계산 시작 직전 시각을 기억\n",
    "    mpf = max_profit2(a)  # 계산 수행\n",
    "    end = time.time()         # 계산 시작 직후 시각을 기억\n",
    "    time_fast = end - start   # 직후 시각에서 직전 시각을 빼면 계산에 걸린 시간\n",
    "    # 결과 출력: 계산 결과\n",
    "    print(n, mps, mpf)  # 입력 크기, 각각 알고리즘이 계산한 최대 수익 값(같아야 함)\n",
    "    # 결과 출력: 계산 시간 비교\n",
    "    m = 0 # 느린 알고리즘과 빠른 알고리즘의 수행 시간 비율을 저장할 변수\n",
    "    if time_fast > 0:  # 컴퓨터 환경에 따라 빠른 알고리즘 시간이 0으로 측정될 수 있음\n",
    "                       # 이럴 때는 0을 출력\n",
    "        m = time_slow / time_fast # 느린 알고리즘 시간 / 빠른 알고리즘 시간\n",
    "    # 입력 크기, 느린 알고리즘 수행 시간, 빠른 알고리즘 수행 시간, 계산 시간 차이\n",
    "    # %d는 정수 출력, %.5f는 소수점 다섯 자리까지 출력을 의미\n",
    "    print('%d %.5f %.5f %.2f' % (n, time_slow, time_fast, m))"
   ]
  },
  {
   "cell_type": "code",
   "execution_count": 8,
   "metadata": {},
   "outputs": [
    {
     "name": "stdout",
     "output_type": "stream",
     "text": [
      "100 14633 14633\n",
      "100 0.00199 0.00000 0.00\n",
      "1000 14986 14986\n",
      "1000 0.12005 0.00000 0.00\n"
     ]
    }
   ],
   "source": [
    "test(100)\n",
    "test(1000)"
   ]
  }
 ],
 "metadata": {
  "kernelspec": {
   "display_name": "Python 3",
   "language": "python",
   "name": "python3"
  },
  "language_info": {
   "codemirror_mode": {
    "name": "ipython",
    "version": 3
   },
   "file_extension": ".py",
   "mimetype": "text/x-python",
   "name": "python",
   "nbconvert_exporter": "python",
   "pygments_lexer": "ipython3",
   "version": "3.7.6"
  }
 },
 "nbformat": 4,
 "nbformat_minor": 4
}
